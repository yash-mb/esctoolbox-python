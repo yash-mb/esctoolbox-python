{
  "nbformat": 4,
  "nbformat_minor": 0,
  "metadata": {
    "colab": {
      "name": "Loss Function.ipynb",
      "provenance": [],
      "authorship_tag": "ABX9TyNtj8ARUYA0QfiNm77X9RoT",
      "include_colab_link": true
    },
    "kernelspec": {
      "name": "python3",
      "display_name": "Python 3"
    },
    "language_info": {
      "name": "python"
    }
  },
  "cells": [
    {
      "cell_type": "markdown",
      "metadata": {
        "id": "view-in-github",
        "colab_type": "text"
      },
      "source": [
        "<a href=\"https://colab.research.google.com/github/yash-mb/esctoolbox-python/blob/master/Loss_Function.ipynb\" target=\"_parent\"><img src=\"https://colab.research.google.com/assets/colab-badge.svg\" alt=\"Open In Colab\"/></a>"
      ]
    },
    {
      "cell_type": "code",
      "execution_count": null,
      "metadata": {
        "id": "DkoM4X2jAVn8"
      },
      "outputs": [],
      "source": [
        "import numpy as np\n",
        "from numpy.random import *\n",
        "import matplotlib.pyplot as plt\n",
        "from numba import jit\n",
        "import time"
      ]
    },
    {
      "cell_type": "code",
      "source": [
        "nx = 80 # number of computational grids along x direction\n",
        "ny = nx # number of computational grids along y direction\n",
        "dx, dy = 2.0e-9, 2.0e-9 # spacing of computational grids [m]\n",
        "c0 = 0.5 # average composition of B atom [atomic fraction]\n",
        "R = 8.314 # gas constant\n",
        "temp = 650 # temperature [K]\n",
        "RT=R*temp\n",
        "nsteps = 6000# total number of time-steps"
      ],
      "metadata": {
        "id": "KUEVQ0h8AYQ9"
      },
      "execution_count": null,
      "outputs": []
    },
    {
      "cell_type": "code",
      "source": [
        "La = 20000.-9.*temp # Atom intaraction constant [J/mol]\n",
        "ac = 3.0e-14\n",
        "Da = 1.0e-04*np.exp(-300000.0/R/temp) # diffusion coefficient of A atom [m2/s]\n",
        "Db = 2.0e-05*np.exp(-300000.0/R/temp) # diffusion coefficient of B atom [m2/s]\n",
        "dt = (dx*dx/Da)*0.1 # time increment [s]\n",
        "print(ac/La)"
      ],
      "metadata": {
        "colab": {
          "base_uri": "https://localhost:8080/"
        },
        "id": "cyGjQ-i_AaZ9",
        "outputId": "156ae74e-e2ec-4cd5-ae40-3f9d38018428"
      },
      "execution_count": null,
      "outputs": [
        {
          "output_type": "stream",
          "name": "stdout",
          "text": [
            "2.1201413427561837e-18\n"
          ]
        }
      ]
    },
    {
      "cell_type": "code",
      "source": [
        "fig = plt.figure(figsize=(5,5))\n",
        "cc = np.linspace(0.01, 0.99, 100);\n",
        "plt.plot(cc, R*temp*(cc*np.log(cc)+(1-cc)*np.log(1-cc))+La*cc*(1-cc),color='black')\n",
        "plt.plot(c0, R*temp*(c0*np.log(c0)+(1-c0)*np.log(1-c0))+La*c0*(1-c0),color='r',marker='o',markersize=10)\n",
        "plt.xlabel('Concentration c [at. frac]')\n",
        "plt.ylabel('Chemical free energy density')\n",
        "plt.show()"
      ],
      "metadata": {
        "colab": {
          "base_uri": "https://localhost:8080/",
          "height": 335
        },
        "id": "q7VePZxhAcb7",
        "outputId": "74481e4a-91f8-4e6e-867e-60006262d11d"
      },
      "execution_count": null,
      "outputs": [
        {
          "output_type": "display_data",
          "data": {
            "text/plain": [
              "<Figure size 360x360 with 1 Axes>"
            ],
            "image/png": "[encoded data removed]"
          },
          "metadata": {
            "needs_background": "light"
          }
        }
      ]
    },
    {
      "cell_type": "code",
      "source": [
        "c = np.zeros((nx,ny)) # order parameter c at time t\n",
        "c_new = np.zeros((nx,ny)) # order parameter c at time t"
      ],
      "metadata": {
        "id": "dJ1A2nxcAfgi"
      },
      "execution_count": null,
      "outputs": []
    },
    {
      "cell_type": "code",
      "execution_count": null,
      "metadata": {
        "id": "-c4GhoXtAxKX"
      },
      "outputs": [],
      "source": [
        "\n",
        "@jit(nopython=True)\n",
        "def D_A_three(x, RT):\n",
        "  return 1.0e-04*np.exp(-300000.0/RT)\n",
        "\n",
        "@jit(nopython=True)\n",
        "def D_B_three(x, RT):\n",
        "  return 2.0e-05*np.exp(-300000.0/RT)\n",
        "  \n",
        "@jit(nopython=True)\n",
        "def update_orderparameter(c, c_new, La, ac, RT, dx, dy, D_A_func, D_B_func,Da, Db, dt):\n",
        "    for j in range(ny):\n",
        "        for i in range(nx):\n",
        "            \n",
        "            ip = i + 1\n",
        "            im = i - 1\n",
        "            jp = j + 1\n",
        "            jm = j - 1\n",
        "            ipp = i + 2\n",
        "            imm = i - 2\n",
        "            jpp = j + 2\n",
        "            jmm = j - 2\n",
        "\n",
        "            if ip > nx-1:  # periodic boundary condition\n",
        "                ip = ip - nx\n",
        "            if im < 0:\n",
        "                im = im + nx\n",
        "            if jp > ny-1:\n",
        "                jp = jp - ny\n",
        "            if jm < 0:\n",
        "                jm = jm + ny\n",
        "            if ipp > nx-1: \n",
        "                ipp = ipp - nx\n",
        "            if imm < 0:\n",
        "                imm = imm + nx\n",
        "            if jpp > ny-1:\n",
        "                jpp = jpp - ny\n",
        "            if jmm < 0:\n",
        "                jmm = jmm + ny\n",
        "            \n",
        "            cc = c[i,j] # at (i,j) \"centeral point\"\n",
        "            ce = c[ip,j] # at (i+1.j) \"eastern point\"\n",
        "            cw = c[im,j] # at (i-1,j) \"western point\"\n",
        "            cs = c[i,jm] # at (i,j-1) \"southern point\"\n",
        "            cn = c[i,jp] # at (i,j+1) \"northern point\"\n",
        "            cse = c[ip,jm] # at (i+1, j-1)\n",
        "            cne = c[ip,jp]\n",
        "            csw = c[im,jm]\n",
        "            cnw = c[im,jp]\n",
        "            cee = c[ipp,j]  # at (i+2, j+1)\n",
        "            cww = c[imm,j]\n",
        "            css = c[i,jmm]\n",
        "            cnn = c[i,jpp]\n",
        "            \n",
        "            mu_chem_c = RT*(np.log(cc)-np.log(1.0-cc)) + La*(1.0-2.0*cc) # chemical term of the diffusion potential\n",
        "            mu_chem_w = RT*(np.log(cw)-np.log(1.0-cw)) + La*(1.0-2.0*cw) \n",
        "            mu_chem_e = RT*(np.log(ce)-np.log(1.0-ce)) + La*(1.0-2.0*ce) \n",
        "            mu_chem_n = RT*(np.log(cn)-np.log(1.0-cn)) + La*(1.0-2.0*cn)  \n",
        "            mu_chem_s = RT*(np.log(cs)-np.log(1.0-cs)) + La*(1.0-2.0*cs) \n",
        "\n",
        "            mu_grad_c = -ac*( (ce -2.0*cc +cw )/dx/dx + (cn  -2.0*cc +cs )/dy/dy ) # gradient term of the diffusion potential\n",
        "            mu_grad_w = -ac*( (cc -2.0*cw +cww)/dx/dx + (cnw -2.0*cw +csw)/dy/dy )\n",
        "            mu_grad_e = -ac*( (cee-2.0*ce +cc )/dx/dx + (cne -2.0*ce +cse)/dy/dy )  \n",
        "            mu_grad_n = -ac*( (cne-2.0*cn +cnw)/dx/dx + (cnn -2.0*cn +cc )/dy/dy ) \n",
        "            mu_grad_s = -ac*( (cse-2.0*cs +csw)/dx/dx + (cc  -2.0*cs +css)/dy/dy )              \n",
        "            \n",
        "            mu_c = mu_chem_c + mu_grad_c # total diffusion potental\n",
        "            mu_w = mu_chem_w + mu_grad_w \n",
        "            mu_e = mu_chem_e + mu_grad_e \n",
        "            mu_n = mu_chem_n + mu_grad_n \n",
        "            mu_s = mu_chem_s + mu_grad_s \n",
        "    \n",
        "            nabla_mu = (mu_w -2.0*mu_c + mu_e)/dx/dx + (mu_n -2.0*mu_c + mu_s)/dy/dy    \n",
        "            dc2dx2 = ((ce-cw)*(mu_e-mu_w))/(4.0*dx*dx)\n",
        "            dc2dy2 = ((cn-cs)*(mu_n-mu_s))/(4.0*dy*dy) \n",
        "\n",
        "            Da3=D_A_three(cc,RT)\n",
        "            Db3=D_B_three(cc,RT)\n",
        "            mob = (1/RT)*(Da3*cc+Db3*(1.0-cc))\n",
        "            dmdc = (1/RT)*(Da3-Db3+cc*Da+(1.0-cc)*Db*(2+2*cc))\n",
        "            dcdt = mob*nabla_mu + dmdc*(dc2dx2 + dc2dy2) # right-hand side of Cahn-Hilliard equation\n",
        "            c_new[i,j] = c[i,j] + dcdt *dt # update order parameter c \n",
        "    return c_new\n",
        "  \n",
        "@jit(nopython=True)\n",
        "def update_full_orderparameter(c, c_new, La, ac, RT, dx, dy, D_A_func, D_B_func,Da, Db, dt):\n",
        "    for j in range(ny):\n",
        "        for i in range(nx):\n",
        "            \n",
        "            ip = i + 1\n",
        "            im = i - 1\n",
        "            jp = j + 1\n",
        "            jm = j - 1\n",
        "            ipp = i + 2\n",
        "            imm = i - 2\n",
        "            jpp = j + 2\n",
        "            jmm = j - 2\n",
        "\n",
        "            if ip > nx-1:  # periodic boundary condition\n",
        "                ip = ip - nx\n",
        "            if im < 0:\n",
        "                im = im + nx\n",
        "            if jp > ny-1:\n",
        "                jp = jp - ny\n",
        "            if jm < 0:\n",
        "                jm = jm + ny\n",
        "            if ipp > nx-1: \n",
        "                ipp = ipp - nx\n",
        "            if imm < 0:\n",
        "                imm = imm + nx\n",
        "            if jpp > ny-1:\n",
        "                jpp = jpp - ny\n",
        "            if jmm < 0:\n",
        "                jmm = jmm + ny\n",
        "            \n",
        "            cc = c[i,j] # at (i,j) \"centeral point\"\n",
        "            ce = c[ip,j] # at (i+1.j) \"eastern point\"\n",
        "            cw = c[im,j] # at (i-1,j) \"western point\"\n",
        "            cs = c[i,jm] # at (i,j-1) \"southern point\"\n",
        "            cn = c[i,jp] # at (i,j+1) \"northern point\"\n",
        "            cse = c[ip,jm] # at (i+1, j-1)\n",
        "            cne = c[ip,jp]\n",
        "            csw = c[im,jm]\n",
        "            cnw = c[im,jp]\n",
        "            cee = c[ipp,j]  # at (i+2, j+1)\n",
        "            cww = c[imm,j]\n",
        "            css = c[i,jmm]\n",
        "            cnn = c[i,jpp]\n",
        "\n",
        "            mu_chem_c = RT*(np.log(cc)-np.log(1.0-cc)) + La*(1.0-2.0*cc)-RT*(np.log(1+2*cc+2*cc**2)-np.log(1+cc)) # chemical term of the diffusion potential\n",
        "            mu_chem_w = RT*(np.log(cw)-np.log(1.0-cw)) + La*(1.0-2.0*cw)-RT*(np.log(1+2*cw+2*cw**2)-np.log(1+cw))\n",
        "            mu_chem_e = RT*(np.log(ce)-np.log(1.0-ce)) + La*(1.0-2.0*ce)-RT*(np.log(1+2*ce+2*ce**2)-np.log(1+ce))\n",
        "            mu_chem_n = RT*(np.log(cn)-np.log(1.0-cn)) + La*(1.0-2.0*cn)-RT*(np.log(1+2*cn+2*cn**2)-np.log(1+cn))\n",
        "            mu_chem_s = RT*(np.log(cs)-np.log(1.0-cs)) + La*(1.0-2.0*cs)-RT*(np.log(1+2*cs+2*cs**2)-np.log(1+cs))\n",
        "\n",
        "            mu_grad_c = -ac*( (ce -2.0*cc +cw )/dx/dx + (cn  -2.0*cc +cs )/dy/dy ) # gradient term of the diffusion potential\n",
        "            mu_grad_w = -ac*( (cc -2.0*cw +cww)/dx/dx + (cnw -2.0*cw +csw)/dy/dy )\n",
        "            mu_grad_e = -ac*( (cee-2.0*ce +cc )/dx/dx + (cne -2.0*ce +cse)/dy/dy )  \n",
        "            mu_grad_n = -ac*( (cne-2.0*cn +cnw)/dx/dx + (cnn -2.0*cn +cc )/dy/dy ) \n",
        "            mu_grad_s = -ac*( (cse-2.0*cs +csw)/dx/dx + (cc  -2.0*cs +css)/dy/dy )              \n",
        "            \n",
        "            mu_c = mu_chem_c + mu_grad_c # total diffusion potental\n",
        "            mu_w = mu_chem_w + mu_grad_w \n",
        "            mu_e = mu_chem_e + mu_grad_e \n",
        "            mu_n = mu_chem_n + mu_grad_n \n",
        "            mu_s = mu_chem_s + mu_grad_s \n",
        "    \n",
        "            nabla_mu = (mu_w -2.0*mu_c + mu_e)/dx/dx + (mu_n -2.0*mu_c + mu_s)/dy/dy    \n",
        "            dc2dx2 = ((ce-cw)*(mu_e-mu_w))/(4.0*dx*dx)\n",
        "            dc2dy2 = ((cn-cs)*(mu_n-mu_s))/(4.0*dy*dy) \n",
        "\n",
        "            Da3=D_A_three(cc,RT)\n",
        "            Db3=D_B_three(cc,RT)\n",
        "            mob = (1/RT)*(Da3*cc+Db3*(1.0-cc))\n",
        "            dmdc = (1/RT)*(Da3-Db3+cc*Da+(1.0-cc)*Db*(2+4*cc))\n",
        "            dcdt = mob*nabla_mu + dmdc*(dc2dx2 + dc2dy2) # right-hand side of Cahn-Hilliard equation\n",
        "            c_new[i,j] = c[i,j] + dcdt *dt # update order parameter c \n",
        "    return c_new"
      ]
    },
    {
      "cell_type": "code",
      "source": [
        "ref = np.load (\"Ref.npy\", allow_pickle=True)"
      ],
      "metadata": {
        "id": "UG6t0ozxBRrW"
      },
      "execution_count": null,
      "outputs": []
    },
    {
      "cell_type": "code",
      "source": [
        "ref_f = np.load (\"ref_fourier.npy\", allow_pickle=True)"
      ],
      "metadata": {
        "id": "00tl11wRGUfA"
      },
      "execution_count": null,
      "outputs": []
    },
    {
      "cell_type": "code",
      "source": [
        "def get_loss(n, a, b) :\n",
        "  La = a*20000.-9.*temp\n",
        "  ac = b*3.0e-14\n",
        "  L2_error = []\n",
        "  n_steps = 1000\n",
        "  dtt = 0\n",
        "\n",
        "  for i in range (0, n):\n",
        "    time_list = []\n",
        "    mat_list = []\n",
        "    marr = np.zeros((n_steps,1))\n",
        "    ref = np.load (\"Ref.npy\", allow_pickle=True)\n",
        "    c0 = 0.5\n",
        "    c = np.zeros((nx,ny)) # zero-clear\n",
        "    c_new = np.zeros((nx,ny)) # zero clear\n",
        "    c = c0 + np.random.rand(nx, ny)*0.1\n",
        "    dtt = 0\n",
        "\n",
        "    for nstep in range(0, n_steps):\n",
        "        dt=0.001*dx**2/Db\n",
        "        dtt = dtt + dt\n",
        "        c=update_orderparameter(c,c_new, La, ac, RT, dx, dy, D_A_three, D_B_three, Da, Db, dt)\n",
        "        time_list.append (dtt)\n",
        "        mat_list.append(c)\n",
        "    \n",
        "    marr = np.array (mat_list)\n",
        "    #print('Maximum concentration = ', np.max(marr))\n",
        "    #print('Minimum concentration = ', np.min(marr))\n",
        "    #plt.imshow(marr[10], cmap='bwr')\n",
        "    #plt.colorbar()\n",
        "    #plt.show()\n",
        "    k = 0\n",
        "    L2 = 0\n",
        "    for j in range (0, n_steps):\n",
        "        L2 = np.linalg.norm(marr[j] - ref [j,1])\n",
        "        k = k + L2\n",
        "    L2_error.append(k)\n",
        "\n",
        "  return L2_error"
      ],
      "metadata": {
        "id": "GgnxrVl_GsyI"
      },
      "execution_count": null,
      "outputs": []
    },
    {
      "cell_type": "code",
      "source": [
        "def get_loss_fourier (n, a, b):\n",
        "  La = a*20000.-9.*temp\n",
        "  ac = b*3.0e-14\n",
        "  L2_error = []\n",
        "  n_steps = 1000\n",
        "\n",
        "  for i in range (0, n):\n",
        "    time_list = []\n",
        "    mat_list = []\n",
        "    marr = np.zeros((n_steps,1))\n",
        "    ref = np.load (\"Ref.npy\", allow_pickle=True)\n",
        "    c0 = 0.5\n",
        "    c = np.zeros((nx,ny)) # zero-clear\n",
        "    c_new = np.zeros((nx,ny)) # zero clear\n",
        "    c = c0 + np.random.rand(nx, ny)*0.1\n",
        "    dtt = 0\n",
        "\n",
        "    for nstep in range(0, n_steps):\n",
        "        dt=0.001*dx**2/Db\n",
        "        dtt = dtt + dt\n",
        "        c=update_orderparameter(c,c_new, La, ac, RT, dx, dy, D_A_three, D_B_three, Da, Db, dt)\n",
        "        c_fourier = np.fft.fftshift(np.fft.fft2(c))\n",
        "        #c_fourier = np.fft.fft2(c)\n",
        "        time_list.append (dtt)\n",
        "        mat_list.append(c_fourier)\n",
        "    \n",
        "    marr = np.array (mat_list)\n",
        "    #print('Maximum concentration = ', np.max(marr))\n",
        "    #print('Minimum concentration = ', np.min(marr))\n",
        "    #plt.imshow(np.log(abs(marr[10])), cmap='bwr')\n",
        "    #plt.colorbar()\n",
        "    #plt.show()\n",
        "    k = 0\n",
        "    L2 = 0\n",
        "    for j in range (0, n_steps):\n",
        "        L2 = np.linalg.norm(np.log(abs(marr[j])) - np.log(abs(ref [j,1])))\n",
        "        k = k + L2\n",
        "    L2_error.append(k)\n",
        "\n",
        "  return L2_error"
      ],
      "metadata": {
        "id": "HBt_60_fHdBa"
      },
      "execution_count": null,
      "outputs": []
    }
  ]
}